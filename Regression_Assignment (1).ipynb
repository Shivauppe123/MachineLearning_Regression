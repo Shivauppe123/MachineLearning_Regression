{
 "cells": [
  {
   "cell_type": "markdown",
   "id": "e9efd664-25b5-4365-99b8-1059ad9a48ac",
   "metadata": {},
   "source": [
    "1. What is Simple Linear Regression?\n",
    "It is a method to model the relationship between two variables by fitting a straight line to the data.\n",
    "Example: Predicting a person's weight based on height."
   ]
  },
  {
   "cell_type": "markdown",
   "id": "c774ceab-7ae9-4d6a-9c5a-0293342d94e2",
   "metadata": {},
   "source": [
    "2. What are the key assumptions of Simple Linear Regression?\n",
    "Linearity: The relationship between variables is linear.\n",
    "Independence: Observations are independent of each other.\n",
    "Homoscedasticity: Constant variance of errors.\n",
    "Normality: Errors are normally distributed."
   ]
  },
  {
   "cell_type": "markdown",
   "id": "7f51ab4c-34e2-40df-b1fb-7574772a721d",
   "metadata": {},
   "source": [
    "3. What does the coefficient m represent in the equation Y = mX + c?\n",
    "The slope, m, represents the change in Y for a one-unit change in X.\n",
    "Example: If m = 2, for every 1 unit increase in X, Y increases by 2 units."
   ]
  },
  {
   "cell_type": "raw",
   "id": "53c199c1-b8ca-4288-9fcc-2114abe1e6b4",
   "metadata": {},
   "source": [
    "4. What does the intercept c represent in the equation Y = mX + c?\n",
    "The intercept, c, is the value of Y when X equals zero.\n",
    "Example: If c = 5, when X = 0, Y = 5."
   ]
  },
  {
   "cell_type": "raw",
   "id": "b8e2d467-305b-48d6-8999-2e51815a13f1",
   "metadata": {},
   "source": [
    "How do we calculate the slope m in Simple Linear Regression?"
   ]
  },
  {
   "cell_type": "markdown",
   "id": "e2889a5f-acb2-4411-9d01-a88f25606548",
   "metadata": {},
   "source": [
    "6. What is the purpose of the least squares method in Simple Linear Regression?\n",
    "To minimize the sum of squared differences between actual and predicted values, finding the best-fitting line.\n"
   ]
  },
  {
   "cell_type": "markdown",
   "id": "a3612bb9-ce50-421a-9b24-6af36862c55e",
   "metadata": {},
   "source": [
    "7. How is the coefficient of determination (R²) interpreted in Simple Linear Regression?\n",
    "R² shows the proportion of variance in Y explained by X.\n",
    "Example: If R² = 0.85, 85% of the variance in Y is explained by X.\n"
   ]
  },
  {
   "cell_type": "markdown",
   "id": "512531ae-f78b-44cb-a8a0-5dc9e17c56a4",
   "metadata": {},
   "source": [
    "\n",
    "8. What is Multiple Linear Regression?\n",
    "It models the relationship between one dependent variable and multiple independent variables.\n",
    "Example: Predicting house price based on square footage, number of rooms, and location.\n",
    "\n"
   ]
  },
  {
   "cell_type": "markdown",
   "id": "ffdb14df-5dc8-4a46-b4a9-b3097a371902",
   "metadata": {},
   "source": [
    "9. What is the main difference between Simple and Multiple Linear Regression?\n",
    "Simple Linear Regression uses one independent variable, while Multiple Linear Regression uses multiple independent variables.\n",
    "\n"
   ]
  },
  {
   "cell_type": "markdown",
   "id": "1532f3bd-b87b-4e99-9e3a-cfd423064d94",
   "metadata": {},
   "source": [
    "10. What are the key assumptions of Multiple Linear Regression?\n",
    "Linearity\n",
    "Independence of errors\n",
    "Homoscedasticity\n",
    "No multicollinearity\n",
    "Normality of errors\n"
   ]
  },
  {
   "cell_type": "markdown",
   "id": "1b63392e-2707-46eb-82b6-25fd72cfb7c2",
   "metadata": {},
   "source": [
    "11. What is heteroscedasticity, and how does it affect the results of a Multiple Linear Regression model?\n",
    "Heteroscedasticity occurs when the variance of errors changes across values of the independent variable. It makes standard errors unreliable and affects the model's accuracy.\n",
    "\n"
   ]
  },
  {
   "cell_type": "markdown",
   "id": "3240f38f-4c7b-43ce-8681-6d0d234d1e16",
   "metadata": {},
   "source": [
    "12. How can you improve a Multiple Linear Regression model with high multicollinearity?\n",
    "Remove correlated predictors\n",
    "Use regularization (Lasso/Ridge)\n",
    "Combine similar variables\n"
   ]
  },
  {
   "cell_type": "markdown",
   "id": "4d5bd2e7-c44f-4eda-a96f-7c543cd0f5a7",
   "metadata": {},
   "source": [
    "13. What are some common techniques for transforming categorical variables for use in regression models?\n",
    "One-Hot Encoding\n",
    "Label Encoding"
   ]
  },
  {
   "cell_type": "markdown",
   "id": "98347c64-1dd7-410c-8bd9-979d1b174943",
   "metadata": {},
   "source": [
    "14. What is the role of interaction terms in Multiple Linear Regression?\n",
    "Interaction terms model the combined effect of two or more independent variables on the dependent variable.\n",
    "Example: The effect of education and experience on salary might not be additive; their interaction could be significant."
   ]
  },
  {
   "cell_type": "markdown",
   "id": "defe1313-b530-4825-8b9a-2ea8551958f6",
   "metadata": {},
   "source": [
    "15. How can the interpretation of intercept differ between Simple and Multiple Linear Regression?\n",
    "In Simple Linear Regression, the intercept is the value of Y when X = 0. In Multiple Linear Regression, it's the value of Y when all independent variables are 0."
   ]
  },
  {
   "cell_type": "markdown",
   "id": "3f35906e-4f6f-4292-b167-47de522e2afa",
   "metadata": {},
   "source": [
    "16. What is the significance of the slope in regression analysis, and how does it affect predictions?\n",
    "The slope indicates how much Y changes for each unit change in X. A larger slope means a stronger relationship."
   ]
  },
  {
   "cell_type": "markdown",
   "id": "d1c99c77-dee7-4c52-ba82-4dc5a816dff9",
   "metadata": {},
   "source": [
    "17. What are the limitations of using R² as a sole measure of model performance?\n",
    "R² can be misleading, especially with many predictors, as it always increases with more variables, even if they don’t improve the model.\n",
    "\n"
   ]
  },
  {
   "cell_type": "markdown",
   "id": "3ae760aa-dcde-4c05-a0ec-566f8b54959d",
   "metadata": {},
   "source": [
    "18. How would you interpret a large standard error for a regression coefficient?\n",
    "A large standard error suggests that the estimate of the coefficient is uncertain and less reliable.\n",
    "\n"
   ]
  },
  {
   "cell_type": "markdown",
   "id": "8647d46e-27c6-4535-b000-4f9bbc548be8",
   "metadata": {},
   "source": [
    "19. What is polynomial regression?\n",
    "Polynomial regression fits a nonlinear relationship by adding higher-degree terms of the independent variable.\n",
    "Example: Predicting the growth of a plant, where the growth rate increases and then slows down over time.\n",
    "\n"
   ]
  },
  {
   "cell_type": "markdown",
   "id": "c162ffcb-ea07-4605-ab55-f5b5aa732f91",
   "metadata": {},
   "source": [
    "20. When is polynomial regression used?\n",
    "When the relationship between variables is nonlinear, and a curve is needed to fit the data better."
   ]
  },
  {
   "cell_type": "markdown",
   "id": "ff5af6d6-5886-4e91-ae76-a9fdfd8b5598",
   "metadata": {},
   "source": [
    "21. How does the intercept in a regression model provide context for the relationship between variables?\n",
    "The intercept represents the value of the dependent variable when all independent variables are zero. It provides a baseline for the model.\n",
    "\n"
   ]
  },
  {
   "cell_type": "markdown",
   "id": "e213a3ce-3e42-445b-abab-e18267094f20",
   "metadata": {},
   "source": [
    "22. How can heteroscedasticity be identified in residual plots, and why is it important to address it?\n",
    "If residuals fan out or contract as the predicted value increases, it indicates heteroscedasticity. It's important to address it to ensure reliable model estimates.\n",
    "\n"
   ]
  },
  {
   "cell_type": "markdown",
   "id": "da83c0a6-eab0-4659-ab19-1b7408969f7c",
   "metadata": {},
   "source": [
    "23. What does it mean if a Multiple Linear Regression model has a high R² but low adjusted R²?\n",
    "It suggests the model is overfitting, with too many variables that don’t actually improve the model's predictive power.\n",
    "\n"
   ]
  },
  {
   "cell_type": "markdown",
   "id": "04a7fec2-f8da-4b3f-b308-cbde3584fae1",
   "metadata": {},
   "source": [
    "24. Why is it important to scale variables in Multiple Linear Regression?\n",
    "Scaling ensures that all variables are on a similar scale, preventing variables with larger ranges from dominating the model.\n"
   ]
  },
  {
   "cell_type": "markdown",
   "id": "131387a4-d11e-413e-8711-dcf3c2fb5148",
   "metadata": {},
   "source": [
    "25. How does polynomial regression differ from linear regression?\n",
    "Polynomial regression uses higher-degree terms (e.g., \n",
    "𝑋\n",
    "2\n",
    "X \n",
    "2\n",
    " , \n",
    "𝑋\n",
    "3\n",
    "X \n",
    "3\n",
    " ) to model nonlinear relationships, while linear regression only uses linear terms (e.g., \n",
    "𝑋\n",
    "X).\n"
   ]
  },
  {
   "cell_type": "markdown",
   "id": "a19e2ecc-57ac-4e49-8cb2-e0cf8c9d645d",
   "metadata": {},
   "source": [
    "26. What is the general equation for polynomial regression?\n",
    "𝑌\n",
    "=\n",
    "𝛽\n",
    "0\n",
    "+\n",
    "𝛽\n",
    "1\n",
    "𝑋\n",
    "+\n",
    "𝛽\n",
    "2\n",
    "𝑋\n",
    "2\n",
    "+\n",
    "⋯\n",
    "+\n",
    "𝛽\n",
    "𝑛\n",
    "𝑋\n",
    "𝑛\n",
    "Y=β \n",
    "0\n",
    "​\n",
    " +β \n",
    "1\n",
    "​\n",
    " X+β \n",
    "2\n",
    "​\n",
    " X \n",
    "2\n",
    " +⋯+β \n",
    "n\n",
    "​\n",
    " X \n",
    "n\n",
    " \n",
    "\n"
   ]
  },
  {
   "cell_type": "markdown",
   "id": "84676264-5207-4a4f-996d-070b4d531da2",
   "metadata": {},
   "source": [
    "27. Can polynomial regression be applied to multiple variables?\n",
    "Yes, polynomial regression can be applied to multiple variables by adding polynomial terms for each predictor.\n",
    "\n"
   ]
  },
  {
   "cell_type": "markdown",
   "id": "efe85618-0bf7-4c6d-b0ec-7b1f5df5ecbf",
   "metadata": {},
   "source": [
    "28. What are the limitations of polynomial regression?\n",
    "Risk of overfitting with high-degree polynomials.\n",
    "Complexity increases with the degree of the polynomial.\n",
    "Difficult to interpret for high-degree terms.\n"
   ]
  },
  {
   "cell_type": "markdown",
   "id": "b2633c4c-a21c-4dd2-a0b0-86add2b0b6f2",
   "metadata": {},
   "source": [
    "29. What methods can be used to evaluate model fit when selecting the degree of a polynomial?\n",
    "Cross-validation\n",
    "Adjusted R²\n",
    "AIC/BIC\n"
   ]
  },
  {
   "cell_type": "markdown",
   "id": "61585fd2-d86e-492b-9718-493ac92f907b",
   "metadata": {},
   "source": [
    "30. Why is visualization important in polynomial regression?\n",
    "Visualization helps to understand the fit of the model, check for overfitting, and assess how well the model captures the nonlinear relationship."
   ]
  },
  {
   "cell_type": "code",
   "execution_count": null,
   "id": "1af8fbd5-6272-40b8-8d42-ec2b2fbcc11f",
   "metadata": {},
   "outputs": [],
   "source": [
    "#pip install -U scikit-learn"
   ]
  },
  {
   "cell_type": "code",
   "execution_count": 3,
   "id": "e8735c8b-fe99-4e14-9ff7-650dc26f9fe1",
   "metadata": {},
   "outputs": [
    {
     "data": {
      "image/png": "[encoded data removed]",
      "text/plain": [
       "<Figure size 640x480 with 1 Axes>"
      ]
     },
     "metadata": {},
     "output_type": "display_data"
    }
   ],
   "source": [
    "#How is polynomial regression implemented in Python?\n",
    "import numpy as np\n",
    "import matplotlib.pyplot as plt\n",
    "from sklearn.preprocessing import PolynomialFeatures\n",
    "from sklearn.linear_model import LinearRegression\n",
    "\n",
    "# Sample data\n",
    "X = np.array([1, 2, 3, 4, 5]).reshape(-1, 1)\n",
    "y = np.array([1, 4, 9, 16, 25])\n",
    "\n",
    "# Create polynomial features\n",
    "poly = PolynomialFeatures(degree=2)\n",
    "X_poly = poly.fit_transform(X)\n",
    "\n",
    "# Fit polynomial regression model\n",
    "model = LinearRegression()\n",
    "model.fit(X_poly, y)\n",
    "\n",
    "# Plot results\n",
    "plt.scatter(X, y, color='blue')\n",
    "plt.plot(X, model.predict(X_poly), color='red')\n",
    "plt.title('Polynomial Regression (Degree 2)')\n",
    "plt.xlabel('X')\n",
    "plt.ylabel('y')\n",
    "plt.show()"
   ]
  },
  {
   "cell_type": "code",
   "execution_count": null,
   "id": "b279bda5-4386-48ea-9cf8-8cce820057da",
   "metadata": {},
   "outputs": [],
   "source": []
  }
 ],
 "metadata": {
  "kernelspec": {
   "display_name": "Python 3 (ipykernel)",
   "language": "python",
   "name": "python3"
  },
  "language_info": {
   "codemirror_mode": {
    "name": "ipython",
    "version": 3
   },
   "file_extension": ".py",
   "mimetype": "text/x-python",
   "name": "python",
   "nbconvert_exporter": "python",
   "pygments_lexer": "ipython3",
   "version": "3.13.1"
  }
 },
 "nbformat": 4,
 "nbformat_minor": 5
}
